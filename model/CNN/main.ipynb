{
 "cells": [
  {
   "cell_type": "code",
   "execution_count": 2,
   "id": "4cac2103",
   "metadata": {},
   "outputs": [
    {
     "name": "stderr",
     "output_type": "stream",
     "text": [
      "INFO:data_prep:Train dataset:\n",
      "INFO:data_prep:Test dataset:\n",
      "INFO:data_prep:\tLoaded 958   samples of angry   (0)\n",
      "INFO:data_prep:\tLoaded 111   samples of disgust (1)\n",
      "INFO:data_prep:\tLoaded 1024  samples of fear    (2)\n",
      "INFO:data_prep:\tLoaded 1774  samples of happy   (3)\n",
      "INFO:data_prep:\tLoaded 1233  samples of neutral (4)\n",
      "INFO:data_prep:\tLoaded 1247  samples of sad     (5)\n",
      "INFO:data_prep:\tLoaded 831   samples of surprise(6)\n"
     ]
    },
    {
     "name": "stdout",
     "output_type": "stream",
     "text": [
      "\tLoaded 3995  samples of angry   (0) | With Augmentation: 7990\n",
      "\tLoaded 436   samples of disgust (1) | With Augmentation: 872\n",
      "\tLoaded 4097  samples of fear    (2) | With Augmentation: 8194\n",
      "\tLoaded 7215  samples of happy   (3) | With Augmentation: 14430\n",
      "\tLoaded 4965  samples of neutral (4) | With Augmentation: 9930\n",
      "\tLoaded 4830  samples of sad     (5) | With Augmentation: 9660\n",
      "\tLoaded 3171  samples of surprise(6) | With Augmentation: 6342\n"
     ]
    }
   ],
   "source": [
    "from importlib.machinery import SourceFileLoader\n",
    "\n",
    "data_prep = SourceFileLoader(\"data_prep\", \"../../data_prep/complete_data_prep.py\").load_module()"
   ]
  }
 ],
 "metadata": {
  "kernelspec": {
   "display_name": "base",
   "language": "python",
   "name": "python3"
  },
  "language_info": {
   "codemirror_mode": {
    "name": "ipython",
    "version": 3
   },
   "file_extension": ".py",
   "mimetype": "text/x-python",
   "name": "python",
   "nbconvert_exporter": "python",
   "pygments_lexer": "ipython3",
   "version": "3.12.3"
  }
 },
 "nbformat": 4,
 "nbformat_minor": 5
}
